{
 "cells": [
  {
   "cell_type": "markdown",
   "id": "58a01966",
   "metadata": {},
   "source": [
    "### Modul 2: Grunnleggende programmering i Python"
   ]
  },
  {
   "cell_type": "markdown",
   "id": "c0076b0e",
   "metadata": {},
   "source": [
    "\n",
    "#### **1. Gjennomgang av erfaringer fra forrige modul**\n",
    "\n",
    "- Gå gjennom erfaringene fra hjemmeleksen:\n",
    "  - Diskuter utfordringer deltakerne møtte på, for eksempel installasjon av verktøy, opprettelse av prosjektmappe, eller kjøring av \"Hello, World!\".\n",
    "  - Vis frem løsninger som deltakerne har laget.\n",
    "  - La deltakerne dele sine erfaringer i plenum.\n"
   ]
  },
  {
   "cell_type": "markdown",
   "id": "893ed0ea",
   "metadata": {},
   "source": [
    "\n",
    "#### **2. Dagens tema: Grunnleggende konsepter i programmering**\n",
    "\n",
    "- **Introduksjon til Jupyter Notebooks:**\n",
    "  - Jupyter Notebooks er et interaktivt verktøy for å skrive og kjøre kode i mindre deler, kalt \"celler\".\n",
    "  - Hver celle kan inneholde kode eller tekst.\n",
    "  - Fordeler med Jupyter Notebooks:\n",
    "    - Gjør det mulig å eksperimentere med kode, kjøre én celle av gangen, og se resultatet umiddelbart.\n",
    "    - Lar deg kombinere tekst og kode for bedre dokumentasjon.\n"
   ]
  },
  {
   "cell_type": "markdown",
   "id": "1ddb4067",
   "metadata": {},
   "source": [
    "\n",
    "- **Hvordan bruke Jupyter Notebooks:**\n",
    "  1. Start Jupyter Notebook:\n",
    "     - Åpne en terminal og skriv `jupyter notebook` for å starte.\n",
    "     - Dette åpner en nettleser med en oversikt over filene dine.\n",
    "  2. Opprett en ny notebook:\n",
    "     - Klikk på \"New\" > \"Python 3 (ipykernel)\" i øvre høyre hjørne.\n",
    "  3. Bruk av celler:\n",
    "     - Hver celle kan kjøres ved å trykke `Shift + Enter`.\n",
    "     - Resultatene vises rett under cellen.\n",
    "     - For å legge til ny celle, bruk menyen eller trykk `Esc` og deretter `B` for å legge til en celle nedenfor.\n"
   ]
  },
  {
   "cell_type": "markdown",
   "id": "f373ce8d",
   "metadata": {},
   "source": [
    "#### **Grunnleggende konsepter:**"
   ]
  },
  {
   "cell_type": "markdown",
   "id": "7f9d0af7",
   "metadata": {},
   "source": [
    "**a) Variabler og datatyper:**"
   ]
  },
  {
   "cell_type": "code",
   "execution_count": null,
   "id": "16310d00",
   "metadata": {},
   "outputs": [],
   "source": [
    "\n",
    "navn = \"Joakim\"\n",
    "alder = 30\n",
    "er_student = True\n",
    "print(f\"{navn} er {alder} år gammel. Studentstatus: {er_student}\")\n"
   ]
  },
  {
   "cell_type": "markdown",
   "id": "73b579de",
   "metadata": {},
   "source": [
    "**b) If-setninger:**"
   ]
  },
  {
   "cell_type": "code",
   "execution_count": null,
   "id": "33217c8c",
   "metadata": {},
   "outputs": [],
   "source": [
    "\n",
    "tall = 10\n",
    "if tall > 5:\n",
    "    print(\"Tallet er større enn 5\")\n",
    "elif tall == 5:\n",
    "    print(\"Tallet er lik 5\")\n",
    "else:\n",
    "    print(\"Tallet er mindre enn 5\")\n"
   ]
  },
  {
   "cell_type": "markdown",
   "id": "b46f230e",
   "metadata": {},
   "source": [
    "**c) Samlinger (Arrays, lister, etc.):**"
   ]
  },
  {
   "cell_type": "code",
   "execution_count": null,
   "id": "3e80d4c9",
   "metadata": {},
   "outputs": [],
   "source": [
    "\n",
    "frukt = [\"eple\", \"banan\", \"appelsin\"]\n",
    "print(frukt[0])  # Skriv ut første element\n",
    "frukt.append(\"druer\")  # Legg til et element\n",
    "for f in frukt:\n",
    "    print(f)\n"
   ]
  },
  {
   "cell_type": "markdown",
   "id": "db45a0fa",
   "metadata": {},
   "source": [
    "**d) Iterasjon:**"
   ]
  },
  {
   "cell_type": "code",
   "execution_count": null,
   "id": "8f95e955",
   "metadata": {},
   "outputs": [],
   "source": [
    "\n",
    "for i in range(5):\n",
    "    print(f\"Dette er iterasjon {i}\")\n",
    "\n",
    "teller = 0\n",
    "while teller < 5:\n",
    "    print(f\"Teller: {teller}\")\n",
    "    teller += 1\n"
   ]
  },
  {
   "cell_type": "markdown",
   "id": "29155e1b",
   "metadata": {},
   "source": [
    "**e) Funksjoner:**"
   ]
  },
  {
   "cell_type": "code",
   "execution_count": null,
   "id": "d06e516a",
   "metadata": {},
   "outputs": [],
   "source": [
    "\n",
    "def hils(navn):\n",
    "    print(f\"Hei, {navn}!\")\n",
    "\n",
    "hils(\"Joakim\")\n"
   ]
  },
  {
   "cell_type": "markdown",
   "id": "2043cb5b",
   "metadata": {},
   "source": [
    "\n",
    "#### **3. Neste hjemmelekse**\n",
    "\n",
    "- **Oppgave 1:** Lag et program som spør brukeren om deres navn og alder, sjekker om de er myndige (18+), og gir en melding.\n",
    "\n",
    "  Eksempel:\n"
   ]
  },
  {
   "cell_type": "code",
   "execution_count": null,
   "id": "8459c6af",
   "metadata": {},
   "outputs": [],
   "source": [
    "\n",
    "navn = input(\"Hva er navnet ditt? \")\n",
    "alder = int(input(\"Hvor gammel er du? \"))\n",
    "\n",
    "if alder >= 18:\n",
    "    print(f\"{navn}, du er myndig!\")\n",
    "else:\n",
    "    print(f\"{navn}, du er ikke myndig ennå.\")\n"
   ]
  },
  {
   "cell_type": "markdown",
   "id": "ed226525",
   "metadata": {},
   "source": [
    "\n",
    "- **Oppgave 2:** Lag en liste over ting du liker og skriv ut elementene med en for-løkke.\n",
    "\n",
    "- **Oppgave 3:** Definer en funksjon som tar to tall og returnerer summen.\n",
    "\n",
    "  Eksempel:\n"
   ]
  },
  {
   "cell_type": "code",
   "execution_count": null,
   "id": "a2c130a3",
   "metadata": {},
   "outputs": [],
   "source": [
    "\n",
    "def addisjon(tall1, tall2):\n",
    "    return tall1 + tall2\n",
    "\n",
    "resultat = addisjon(10, 20)\n",
    "print(f\"Summen er: {resultat}\")\n"
   ]
  }
 ],
 "metadata": {},
 "nbformat": 4,
 "nbformat_minor": 5
}
